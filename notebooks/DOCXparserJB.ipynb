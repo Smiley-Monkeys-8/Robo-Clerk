{
  "nbformat": 4,
  "nbformat_minor": 0,
  "metadata": {
    "colab": {
      "provenance": []
    },
    "kernelspec": {
      "name": "python3",
      "display_name": "Python 3"
    },
    "language_info": {
      "name": "python"
    }
  },
  "cells": [
    {
      "cell_type": "code",
      "source": [
        "%pip install python-docx"
      ],
      "metadata": {
        "colab": {
          "base_uri": "https://localhost:8080/"
        },
        "id": "YIO7bTP2cvcl",
        "outputId": "b6a32bda-650a-47f3-9fd4-c5cd3b24f9be"
      },
      "execution_count": null,
      "outputs": [
        {
          "output_type": "stream",
          "name": "stdout",
          "text": [
            "Collecting python-docx\n",
            "  Downloading python_docx-1.1.2-py3-none-any.whl.metadata (2.0 kB)\n",
            "Requirement already satisfied: lxml>=3.1.0 in /usr/local/lib/python3.11/dist-packages (from python-docx) (5.3.1)\n",
            "Requirement already satisfied: typing-extensions>=4.9.0 in /usr/local/lib/python3.11/dist-packages (from python-docx) (4.13.1)\n",
            "Downloading python_docx-1.1.2-py3-none-any.whl (244 kB)\n",
            "\u001b[2K   \u001b[90m━━━━━━━━━━━━━━━━━━━━━━━━━━━━━━━━━━━━━━━━\u001b[0m \u001b[32m244.3/244.3 kB\u001b[0m \u001b[31m3.8 MB/s\u001b[0m eta \u001b[36m0:00:00\u001b[0m\n",
            "\u001b[?25hInstalling collected packages: python-docx\n",
            "Successfully installed python-docx-1.1.2\n"
          ]
        }
      ]
    },
    {
      "cell_type": "code",
      "source": [
        "import os\n",
        "import re\n",
        "from docx import Document\n",
        "import unicodedata"
      ],
      "metadata": {
        "id": "JVoooTsTcrQ8"
      },
      "execution_count": null,
      "outputs": []
    },
    {
      "cell_type": "code",
      "source": [
        "class DOCXProcessor:\n",
        "    def __init__(self, file_path):\n",
        "        self.file_path = file_path\n",
        "        self.text = \"\"\n",
        "        self.cleaned_text = \"\"\n",
        "        self.extracted_info = {}\n",
        "        self.tickable_info = {}\n",
        "\n",
        "    # 1. Extracting raw text\n",
        "    def extract_text(self):\n",
        "        try:\n",
        "            doc = Document(self.file_path)\n",
        "        except Exception as e:\n",
        "            print(f\"Error reading DOCX file: {e}\")\n",
        "            return\n",
        "\n",
        "        all_text = []\n",
        "\n",
        "        for i, table in enumerate(doc.tables):\n",
        "            for row in table.rows:\n",
        "                for cell in row.cells:\n",
        "                    cell_text = cell.text.strip()\n",
        "                    if cell_text:\n",
        "                        all_text.append(cell_text)\n",
        "\n",
        "        self.text = \"\\n\".join(all_text)\n",
        "\n",
        "    # 2. Cleaning text (adjusting to keep important characters like punctuation and removing unnecessary spaces)\n",
        "    def clean_text(self):\n",
        "        text = unicodedata.normalize(\"NFKD\", self.text)\n",
        "        text = re.sub(r\"[^a-zA-Z0-9.,!?%€$-:\\n\\s]\", \" \", text)  # Keep punctuation for dates, phone numbers, etc.\n",
        "        text = text.lower()\n",
        "        text = re.sub(r\"\\s+\", \" \", text).strip()  # Remove extra spaces\n",
        "        self.cleaned_text = text\n",
        "        #print(\"Cleaned text:\\n\", self.cleaned_text, \"\\n\")\n",
        "\n",
        "    # 3. Extracting key-value and tickable options\n",
        "    def extract_info(self):\n",
        "        # Horrible Regex patterns (thanks chatGPT)\n",
        "        tickable_patterns = {\n",
        "            \"gender\": r\"gender.*?\\b(female|male)\\b\",\n",
        "            \"pep\": r\"politically exposed person.*?\\b(no|yes)\\b\",\n",
        "            \"marital_status\": r\"marital status.*?\\b(divorced|married|single|widowed)\\b\",\n",
        "            \"employment_status\": r\"(?:current employment and function|employment status).*?\\b(employee|self-employed|currently not employed)\\b\",\n",
        "            \"previous_profession\": r\"previous profession.*?\\b(retired|homemaker/housewife|student|diplomat|military representative|other|unknown)\\b\",\n",
        "            \"total_wealth\": r\"total wealth estimated.*?\\b(< eur 1\\.5m|eur 1\\.5m-5m|eur 5m-10m|eur 10m.-20m|eur 20m.-50m|> eur 50m)\\b\",\n",
        "            \"origin_of_wealth\": r\"origin of wealth.*?\\b(employment|inheritance|business|investments|sale of real estate|retirement package|other)\\b\",\n",
        "            \"estimated_assets\": r\"estimated assets.*?\\b(real estate|business|investments|deposits|equity|fixed income|structured products|alternative investments|investment funds|insurance|other investments)\\b\",\n",
        "            \"estimated_income\": r\"estimated total income.*?\\b(< eur 250,000|eur 250,000 - 500,000|eur 500,000 – 1m|> eur 1m)\\b\",\n",
        "            \"commercial_account\": r\"commercial account.*?\\b(yes|no)\\b\",\n",
        "            \"investment_risk_profile\": r\"investment risk profile.*?\\b(low|moderate|considerable|high)\\b\",\n",
        "            \"mandate_type\": r\"type of mandate.*?\\b(advisory|discretionary)\\b\",\n",
        "            \"investment_experience\": r\"investment experience.*?\\b(inexperienced|experienced|expert)\\b\",\n",
        "            \"investment_horizon\": r\"investment horizon.*?\\b(short|medium|long-term)\\b\",\n",
        "        }\n",
        "\n",
        "        personal_info_patterns = {\n",
        "            \"last_name\": r\"last name\\s*([\\w\\-]+)(?=\\s*(first/ middle name \\(s\\)|address|country of domicile|date of birth|nationality|passport no|id type|id issue date|id expiry date))\",\n",
        "            \"first_middle_name\": r\"first/ middle name \\(s\\)\\s*([\\w\\s]+)(?=\\s*(address|country of domicile|date of birth|nationality|passport no|id type|id issue date|id expiry date))\",\n",
        "            \"address\": r\"address\\s*([\\w\\s,.-]+?)(?=\\s*(country of domicile|date of birth|nationality|passport no|id type|id issue date|id expiry date))\",\n",
        "            \"country_of_domicile\": r\"country of domicile\\s*([\\w\\s]+)(?=\\s*(date of birth|nationality|passport no|id type|id issue date|id expiry date))\",\n",
        "            \"date_of_birth\": r\"date of birth\\s*(\\d{4}-\\d{2}-\\d{2})(?=\\s*(nationality|passport no|id type|id issue date|id expiry date))\",\n",
        "            \"nationality\": r\"nationality\\s*([\\w\\s]+)(?=\\s*(passport no|id type|id issue date|id expiry date))\",\n",
        "            \"passport_no\": r\"passport no/ unique id\\s*([\\w\\d]+)(?=\\s*(id type|id issue date|id expiry date))\",\n",
        "            \"id_type\": r\"id type\\s*([\\w\\s]+)(?=\\s*(id issue date|id expiry date))\",\n",
        "            \"id_issue_date\": r\"id issue date\\s*(\\d{4}-\\d{2}-\\d{2})(?=\\s*id expiry date)\",\n",
        "            \"id_expiry_date\": r\"id expiry date\\s*(\\d{4}-\\d{2}-\\d{2})\",\n",
        "            \"telephone\": r\"telephone\\s*(\\+[\\d\\s]+)(?=\\s*(e-mail|email))\",\n",
        "            \"email\": r\"e-mail\\s*([\\w\\.-]+@[\\w\\.-]+)(?=\\s*(telephone|country of domicile|date of birth|nationality|passport no|id type))\",\n",
        "        }\n",
        "\n",
        "        # Extracting tickable fields\n",
        "        tickable_results = {}\n",
        "        for key, pattern in tickable_patterns.items():\n",
        "            match = re.search(pattern, self.cleaned_text)\n",
        "            if match:\n",
        "                tickable_results[key] = match.group(1)\n",
        "                print(f\"  Tickable field '{key}': {match.group(1)}\")\n",
        "\n",
        "        # Extracting personal information fields\n",
        "        personal_info = {}\n",
        "        for key, pattern in personal_info_patterns.items():\n",
        "            match = re.search(pattern, self.cleaned_text)\n",
        "            if match:\n",
        "                if key == \"first_middle_name\":\n",
        "                    full_name = match.group(1).strip()\n",
        "                    names = full_name.split()\n",
        "                    personal_info[\"first_name\"] = names[0]\n",
        "                    personal_info[\"middle_name\"] = \" \".join(names[1:]) if len(names) > 1 else \"\"\n",
        "                else:\n",
        "                    personal_info[key] = match.group(1)\n",
        "                print(f\"  Personal info '{key}': {personal_info.get(key, '')}\")\n",
        "\n",
        "        # Combine personal info with other extracted information\n",
        "        self.extracted_info = {**personal_info, **tickable_results}\n",
        "\n",
        "        #print(\"\\nExtracted Key-Value info:\")\n",
        "        #print(self.extracted_info)\n",
        "\n",
        "        #print(\"\\nExtracted tickable pptions:\")\n",
        "        #print(tickable_results)\n",
        "\n",
        "        self.tickable_info = tickable_results\n",
        "\n",
        "    # Run all steps\n",
        "    def run_pipeline(self):\n",
        "        self.extract_text()\n",
        "        self.clean_text()\n",
        "        self.extract_info()\n",
        "        return {\n",
        "            \"text\": self.text,\n",
        "            \"cleaned_text\": self.cleaned_text,\n",
        "            \"info\": self.extracted_info,\n",
        "            \"tickables\": self.tickable_info\n",
        "        }\n",
        "\n",
        "# Run the full thing\n",
        "if __name__ == \"__main__\":\n",
        "    file_path = \"/content/client_1/profile.docx\"  # Update this path!!\n",
        "    processor = DOCXProcessor(file_path)\n",
        "    result = processor.run_pipeline()\n",
        "\n",
        "    print(\"\\nFinal text dict:\")\n",
        "    print(result[\"info\"])\n",
        "\n",
        "    print(\"\\nFinal tickable fields dict:\")\n",
        "    print(result[\"tickables\"])\n",
        "\n",
        "    # There's a comment field I didn't extract.\n",
        "    # TO DO in classification: check mandatory fields are filled or ticked\n"
      ],
      "metadata": {
        "colab": {
          "base_uri": "https://localhost:8080/"
        },
        "id": "L3WsIVIWU12o",
        "outputId": "a592d1bf-f848-4259-be7f-bc2b978bdc92"
      },
      "execution_count": 55,
      "outputs": [
        {
          "output_type": "stream",
          "name": "stdout",
          "text": [
            "  Tickable field 'gender': female\n",
            "  Tickable field 'pep': no\n",
            "  Tickable field 'marital_status': divorced\n",
            "  Tickable field 'employment_status': employee\n",
            "  Tickable field 'previous_profession': retired\n",
            "  Tickable field 'total_wealth': eur 1.5m-5m\n",
            "  Tickable field 'origin_of_wealth': business\n",
            "  Tickable field 'estimated_assets': real estate\n",
            "  Tickable field 'estimated_income': eur 250,000 - 500,000\n",
            "  Tickable field 'commercial_account': yes\n",
            "  Tickable field 'investment_risk_profile': low\n",
            "  Tickable field 'mandate_type': advisory\n",
            "  Tickable field 'investment_experience': inexperienced\n",
            "  Tickable field 'investment_horizon': short\n",
            "  Personal info 'last_name': niskanen\n",
            "  Personal info 'first_middle_name': \n",
            "  Personal info 'address': pyynikintie 61, 28356 oulu\n",
            "  Personal info 'country_of_domicile': finland \n",
            "  Personal info 'date_of_birth': 1964-08-15\n",
            "  Personal info 'nationality': finnish \n",
            "  Personal info 'passport_no': gb7720776\n",
            "  Personal info 'id_type': passport \n",
            "  Personal info 'id_issue_date': 2020-11-22\n",
            "  Personal info 'id_expiry_date': 2030-11-21\n",
            "  Personal info 'telephone': +358 049 614 09 81 \n",
            "\n",
            "Final text dict:\n",
            "{'last_name': 'niskanen', 'first_name': 'joona', 'middle_name': 'onni', 'address': 'pyynikintie 61, 28356 oulu', 'country_of_domicile': 'finland ', 'date_of_birth': '1964-08-15', 'nationality': 'finnish ', 'passport_no': 'gb7720776', 'id_type': 'passport ', 'id_issue_date': '2020-11-22', 'id_expiry_date': '2030-11-21', 'telephone': '+358 049 614 09 81 ', 'gender': 'female', 'pep': 'no', 'marital_status': 'divorced', 'employment_status': 'employee', 'previous_profession': 'retired', 'total_wealth': 'eur 1.5m-5m', 'origin_of_wealth': 'business', 'estimated_assets': 'real estate', 'estimated_income': 'eur 250,000 - 500,000', 'commercial_account': 'yes', 'investment_risk_profile': 'low', 'mandate_type': 'advisory', 'investment_experience': 'inexperienced', 'investment_horizon': 'short'}\n",
            "\n",
            "Final tickable fields dict:\n",
            "{'gender': 'female', 'pep': 'no', 'marital_status': 'divorced', 'employment_status': 'employee', 'previous_profession': 'retired', 'total_wealth': 'eur 1.5m-5m', 'origin_of_wealth': 'business', 'estimated_assets': 'real estate', 'estimated_income': 'eur 250,000 - 500,000', 'commercial_account': 'yes', 'investment_risk_profile': 'low', 'mandate_type': 'advisory', 'investment_experience': 'inexperienced', 'investment_horizon': 'short'}\n"
          ]
        }
      ]
    },
    {
      "cell_type": "code",
      "source": [],
      "metadata": {
        "id": "lPtpHo7vS0Nf"
      },
      "execution_count": null,
      "outputs": []
    }
  ]
}