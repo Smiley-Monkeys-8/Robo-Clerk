{
  "nbformat": 4,
  "nbformat_minor": 0,
  "metadata": {
    "colab": {
      "provenance": []
    },
    "kernelspec": {
      "name": "python3",
      "display_name": "Python 3"
    },
    "language_info": {
      "name": "python"
    }
  },
  "cells": [
    {
      "cell_type": "code",
      "source": [
        "%pip install python-docx"
      ],
      "metadata": {
        "colab": {
          "base_uri": "https://localhost:8080/"
        },
        "id": "YIO7bTP2cvcl",
        "outputId": "b6a32bda-650a-47f3-9fd4-c5cd3b24f9be"
      },
      "execution_count": null,
      "outputs": [
        {
          "output_type": "stream",
          "name": "stdout",
          "text": [
            "Collecting python-docx\n",
            "  Downloading python_docx-1.1.2-py3-none-any.whl.metadata (2.0 kB)\n",
            "Requirement already satisfied: lxml>=3.1.0 in /usr/local/lib/python3.11/dist-packages (from python-docx) (5.3.1)\n",
            "Requirement already satisfied: typing-extensions>=4.9.0 in /usr/local/lib/python3.11/dist-packages (from python-docx) (4.13.1)\n",
            "Downloading python_docx-1.1.2-py3-none-any.whl (244 kB)\n",
            "\u001b[2K   \u001b[90m━━━━━━━━━━━━━━━━━━━━━━━━━━━━━━━━━━━━━━━━\u001b[0m \u001b[32m244.3/244.3 kB\u001b[0m \u001b[31m3.8 MB/s\u001b[0m eta \u001b[36m0:00:00\u001b[0m\n",
            "\u001b[?25hInstalling collected packages: python-docx\n",
            "Successfully installed python-docx-1.1.2\n"
          ]
        }
      ]
    },
    {
      "cell_type": "code",
      "source": [
        "import os\n",
        "import re\n",
        "from docx import Document\n",
        "import unicodedata"
      ],
      "metadata": {
        "id": "JVoooTsTcrQ8"
      },
      "execution_count": null,
      "outputs": []
    },
    {
      "cell_type": "code",
      "source": [
        "\"\"\"\n",
        "####### NOT CORRECT #######\n",
        "class DOCXProcessor:\n",
        "    def __init__(self, file_path):\n",
        "        self.file_path = file_path\n",
        "        self.text = \"\"\n",
        "        self.cleaned_text = \"\"\n",
        "        self.extracted_info = {}\n",
        "        self.tickable_info = {}\n",
        "\n",
        "    # 1. Extracting raw text\n",
        "    def extract_text(self):\n",
        "        try:\n",
        "            doc = Document(self.file_path)\n",
        "        except Exception as e:\n",
        "            print(f\"Error reading DOCX file: {e}\")\n",
        "            return\n",
        "\n",
        "        all_text = []\n",
        "\n",
        "        for i, table in enumerate(doc.tables):\n",
        "            for row in table.rows:\n",
        "                for cell in row.cells:\n",
        "                    cell_text = cell.text.strip()\n",
        "                    if cell_text:\n",
        "                        all_text.append(cell_text)\n",
        "\n",
        "        self.text = \"\\n\".join(all_text)\n",
        "\n",
        "    # 2. Cleaning text (adjusting to keep important characters like punctuation and removing unnecessary spaces)\n",
        "    def clean_text(self):\n",
        "        text = unicodedata.normalize(\"NFKD\", self.text)\n",
        "        text = re.sub(r\"[^a-zA-Z0-9.,!?%€$-:\\n\\s]\", \" \", text)  # Keep punctuation for dates, phone numbers, etc.\n",
        "        text = text.lower()\n",
        "        text = re.sub(r\"\\s+\", \" \", text).strip()  # Remove extra spaces\n",
        "        self.cleaned_text = text\n",
        "        #print(\"Cleaned text:\\n\", self.cleaned_text, \"\\n\")\n",
        "\n",
        "    # 3. Extracting key-value and tickable options\n",
        "    def extract_info(self):\n",
        "        # Horrible Regex patterns (thanks chatGPT)\n",
        "        tickable_patterns = {\n",
        "            \"gender\": r\"gender\\s*[:\\-]?\\s*(male|female)\\b\",  # Match exactly 'male' or 'female'\n",
        "            \"pep\": r\"politically exposed person\\s*[:\\-]?\\s*(no|yes)\\b\",\n",
        "            \"marital_status\": r\"marital status\\s*[:\\-]?\\s*(divorced|married|single|widowed)\\b\",\n",
        "            \"employment_status\": r\"(?:current employment and function|employment status)\\s*[:\\-]?\\s*(employee|self-employed|currently not employed)\\b\",\n",
        "            \"previous_profession\": r\"previous profession\\s*[:\\-]?\\s*(retired|homemaker/housewife|student|diplomat|military representative|other|unknown)\\b\",\n",
        "            \"total_wealth\": r\"total wealth estimated\\s*[:\\-]?\\s*(< eur 1\\.5m|eur 1\\.5m-5m|eur 5m-10m|eur 10m.-20m|eur 20m.-50m|> eur 50m)\\b\",\n",
        "            \"origin_of_wealth\": r\"origin of wealth\\s*[:\\-]?\\s*(employment|inheritance|business|investments|sale of real estate|retirement package|other)\\b\",\n",
        "            \"estimated_assets\": r\"estimated assets\\s*[:\\-]?\\s*(real estate|business|investments|deposits|equity|fixed income|structured products|alternative investments|investment funds|insurance|other investments)\\b\",\n",
        "            \"estimated_income\": r\"estimated total income\\s*[:\\-]?\\s*(< eur 250,000|eur 250,000 - 500,000|eur 500,000 – 1m|> eur 1m)\\b\",\n",
        "            \"commercial_account\": r\"commercial account\\s*[:\\-]?\\s*(yes|no)\\b\",\n",
        "            \"investment_risk_profile\": r\"investment risk profile\\s*[:\\-]?\\s*(low|moderate|considerable|high)\\b\",\n",
        "            \"mandate_type\": r\"type of mandate\\s*[:\\-]?\\s*(advisory|discretionary)\\b\",\n",
        "            \"investment_experience\": r\"investment experience\\s*[:\\-]?\\s*(inexperienced|experienced|expert)\\b\",\n",
        "            \"investment_horizon\": r\"investment horizon\\s*[:\\-]?\\s*(short|medium|long-term)\\b\",\n",
        "}\n",
        "\n",
        "        personal_info_patterns = {\n",
        "            \"last_name\": r\"last name\\s*([\\w\\-]+)(?=\\s*(first/ middle name \\(s\\)|address|country of domicile|date of birth|nationality|passport no|id type|id issue date|id expiry date))\",\n",
        "            \"first_middle_name\": r\"first/ middle name \\(s\\)\\s*([\\w\\s]+)(?=\\s*(address|country of domicile|date of birth|nationality|passport no|id type|id issue date|id expiry date))\",\n",
        "            \"address\": r\"address\\s*([\\w\\s,.-]+?)(?=\\s*(country of domicile|date of birth|nationality|passport no|id type|id issue date|id expiry date))\",\n",
        "            \"country_of_domicile\": r\"country of domicile\\s*([\\w\\s]+)(?=\\s*(date of birth|nationality|passport no|id type|id issue date|id expiry date))\",\n",
        "            \"date_of_birth\": r\"date of birth\\s*(\\d{4}-\\d{2}-\\d{2})(?=\\s*(nationality|passport no|id type|id issue date|id expiry date))\",\n",
        "            \"nationality\": r\"nationality\\s*([\\w\\s]+)(?=\\s*(passport no|id type|id issue date|id expiry date))\",\n",
        "            \"passport_no\": r\"passport no/ unique id\\s*([\\w\\d]+)(?=\\s*(id type|id issue date|id expiry date))\",\n",
        "            \"id_type\": r\"id type\\s*([\\w\\s]+)(?=\\s*(id issue date|id expiry date))\",\n",
        "            \"id_issue_date\": r\"id issue date\\s*(\\d{4}-\\d{2}-\\d{2})(?=\\s*id expiry date)\",\n",
        "            \"id_expiry_date\": r\"id expiry date\\s*(\\d{4}-\\d{2}-\\d{2})\",\n",
        "            \"telephone\": r\"telephone\\s*(\\+[\\d\\s]+)(?=\\s*(e-mail|email))\",\n",
        "            \"email\": r\"(e[-\\s]*mail|email)\\s*([\\w\\.-]+@[\\w\\.-]+)(?=\\s*(telephone|country of domicile|date of birth|nationality|passport no|id type))\",\n",
        "        }\n",
        "\n",
        "        # Extracting tickable fields\n",
        "        tickable_results = {}\n",
        "        for key, pattern in tickable_patterns.items():\n",
        "            match = re.search(pattern, self.cleaned_text)\n",
        "            if match:\n",
        "                tickable_results[key] = match.group(1)\n",
        "                #print(f\"  Tickable field '{key}': {match.group(1)}\")\n",
        "\n",
        "        # Extracting personal information fields\n",
        "        personal_info = {}\n",
        "        for key, pattern in personal_info_patterns.items():\n",
        "            match = re.search(pattern, self.cleaned_text)\n",
        "            if match:\n",
        "                if key == \"first_middle_name\":\n",
        "                    full_name = match.group(1).strip()\n",
        "                    names = full_name.split()\n",
        "                    personal_info[\"first_name\"] = names[0]\n",
        "                    personal_info[\"middle_name\"] = \" \".join(names[1:]) if len(names) > 1 else \"\"\n",
        "                else:\n",
        "                    personal_info[key] = match.group(1)\n",
        "                #print(f\"  Personal info '{key}': {personal_info.get(key, '')}\")\n",
        "\n",
        "        # Combine personal info with other extracted information\n",
        "        self.extracted_info = {**personal_info, **tickable_results}\n",
        "\n",
        "        #print(\"\\nExtracted Key-Value info:\")\n",
        "        #print(self.extracted_info)\n",
        "\n",
        "        #print(\"\\nExtracted tickable pptions:\")\n",
        "        #print(tickable_results)\n",
        "\n",
        "        self.tickable_info = tickable_results\n",
        "\n",
        "    # Run all steps\n",
        "    def run_pipeline(self):\n",
        "        self.extract_text()\n",
        "        self.clean_text()\n",
        "        self.extract_info()\n",
        "        return {\n",
        "            \"text\": self.text,\n",
        "            \"cleaned_text\": self.cleaned_text,\n",
        "            \"info\": self.extracted_info,\n",
        "            \"tickables\": self.tickable_info\n",
        "        }\n",
        "\n",
        "# Run the full thing\n",
        "if __name__ == \"__main__\":\n",
        "    file_path = \"/content/client_1/profile (2).docx\"  # Update this path!!\n",
        "    processor = DOCXProcessor(file_path)\n",
        "    result = processor.run_pipeline()\n",
        "\n",
        "    print(\"\\nFinal text dict:\")\n",
        "    print(result[\"info\"])\n",
        "\n",
        "    print(\"\\nFinal tickable fields dict:\")\n",
        "    print(result[\"tickables\"])\n",
        "\n",
        "    # There's a comment field I didn't extract.\n",
        "    # TO DO in classification: check mandatory fields are filled or ticked\n",
        "\"\"\""
      ],
      "metadata": {
        "colab": {
          "base_uri": "https://localhost:8080/"
        },
        "id": "L3WsIVIWU12o",
        "outputId": "b8f0f263-b3ef-4212-fe27-144422271c5b"
      },
      "execution_count": 75,
      "outputs": [
        {
          "output_type": "stream",
          "name": "stdout",
          "text": [
            "\n",
            "Final text dict:\n",
            "{'last_name': 'sanders', 'first_name': 'simon', 'middle_name': 'samuel', 'address': 'rue de la loi 38, 2999 namur', 'country_of_domicile': 'belgium ', 'date_of_birth': '1967-10-25', 'nationality': 'belgian ', 'passport_no': 'ql3957717', 'id_type': 'passport ', 'id_issue_date': '2021-03-04', 'id_expiry_date': '2028-03-03', 'telephone': '+32 0454 934 076 ', 'gender': 'female', 'marital_status': 'divorced', 'employment_status': 'employee', 'previous_profession': 'retired', 'origin_of_wealth': 'employment', 'estimated_assets': 'real estate', 'commercial_account': 'yes', 'investment_risk_profile': 'low', 'mandate_type': 'advisory', 'investment_experience': 'inexperienced', 'investment_horizon': 'short'}\n",
            "\n",
            "Final tickable fields dict:\n",
            "{'gender': 'female', 'marital_status': 'divorced', 'employment_status': 'employee', 'previous_profession': 'retired', 'origin_of_wealth': 'employment', 'estimated_assets': 'real estate', 'commercial_account': 'yes', 'investment_risk_profile': 'low', 'mandate_type': 'advisory', 'investment_experience': 'inexperienced', 'investment_horizon': 'short'}\n"
          ]
        }
      ]
    },
    {
      "cell_type": "markdown",
      "source": [
        "## CHECKBOXES"
      ],
      "metadata": {
        "id": "-LLdeoGr5uJv"
      }
    },
    {
      "cell_type": "code",
      "source": [
        "\n",
        "def extract_docx_text_with_checkboxes(file_path):\n",
        "    try:\n",
        "        doc = Document(file_path)\n",
        "    except Exception as e:\n",
        "        print(f\"Error reading DOCX file: {e}\")\n",
        "        return \"\"\n",
        "\n",
        "    all_text = []\n",
        "\n",
        "    for i, table in enumerate(doc.tables):\n",
        "        for row in table.rows:\n",
        "            row_text = []\n",
        "            for cell in row.cells:\n",
        "                cell_runs = []\n",
        "                for paragraph in cell.paragraphs:\n",
        "                    for run in paragraph.runs:\n",
        "                        cell_runs.append(run.text)\n",
        "                full_cell_text = \"\".join(cell_runs).strip()\n",
        "                if full_cell_text:\n",
        "                    row_text.append(full_cell_text)\n",
        "            if row_text:\n",
        "                all_text.append(\" | \".join(row_text))\n",
        "\n",
        "    return \"\\n\".join(all_text)\n",
        "\n",
        "file_path = \"/content/client_1/profile (2).docx\"  # update your path\n",
        "extracted_text = extract_docx_text_with_checkboxes(file_path)\n",
        "extracted_text"
      ],
      "metadata": {
        "colab": {
          "base_uri": "https://localhost:8080/",
          "height": 191
        },
        "id": "fbtbSGlD4NLA",
        "outputId": "3d117133-790e-4647-8679-6027c8567a43"
      },
      "execution_count": 69,
      "outputs": [
        {
          "output_type": "execute_result",
          "data": {
            "text/plain": [
              "'Client Information\\nLast Name | Sanders\\nFirst/ Middle Name (s) | Simon Samuel\\nAddress | Rue de la Loi 38, 2999 Namur\\nCountry of Domicile | Belgium\\nDate of birth | 1967-10-25\\nNationality | Belgian\\nPassport No/ Unique ID | QL3957717\\nID Type | passport\\nID Issue Date | 2021-03-04\\nID Expiry Date | 2028-03-03\\nGender | ☐ Female\\t\\t☒ Male\\nAccount Holder – Contact Management and Services – Contact Info\\nCommunication Medium | Telephone\\t+32 0454 934 076\\nE-Mail\\tsimon.sanders@voo.be\\nAccount Holder – Personal Info\\nIs the client or associated person a Politically Exposed Person as defined in the Client Acceptance Policy? | ☒ No\\t☐ Yes | If ‘Yes’, please complete the Approval Form (PEP) and ensure that appropriate approvals are obtained\\nMarital Status | ☒ Divorced\\t☐ Married\\t☐ Single\\t☐ Widowed | Fill out in case of a private individual\\nHighest education attained | Tertiary\\nEducation History | Université libre de Bruxelles (1990), Hasselt University (1995)\\nAccount Holder – Professional and Economic Background – Business\\nCurrent employment and function | ☒  Employee\\tSince 1997\\nCurrent employment and function | Name Employer EVS Broadcast Equipment SA\\nCurrent employment and function | Position Startup Founder (269000 EUR p.A.) | including annual income and namecard\\nCurrent employment and function | ☐  Self-Employed\\tSince\\nCurrent employment and function | Company Name\\nCurrent employment and function | % of ownership\\n☐  Currently not employed\\tSince\\nPrevious Profession:\\n☐ Retired \\tSince\\nPrevious Profession:\\n☐ Homemaker/housewife\\t\\tSince\\nPrevious Profession:\\n☐ Student \\t\\t\\tSince \\tCountry of study:\\nPrevious Profession:\\n☐ Diplomat\\t\\t\\tSince \\tHome country of diplomatic mission:\\nPrevious Profession:\\n☐ Military representative\\t\\tSince \\tHome country of military establishment:\\nPrevious Profession:\\n☐  Other \\u2002\\u2002\\u2002\\u2002\\u2002\\tSince\\nPrevious Profession:\\n☐  Unknown\\nIndustry (ies)\\nIndustry description\\nIndustry description\\nIndustry description\\nMain Business Activities(including annual turnover and firm’s URL)\\nMain Business Activities(including annual turnover and firm’s URL)\\nMain Business Activities(including annual turnover and firm’s URL)\\nCountry (ies) of business\\nAccount Holder – Professional and Economic Background – Wealth\\nTotal wealth estimated | ☐ < EUR 1.5m \\t☒ EUR 1.5m-5m \\t☐ EUR 5m-10m\\n☐ EUR 10m.-20m\\t☐ EUR 20m.-50m   ☐ > EUR 50m | Origin of wealth: - Profit from business/ professional income- Inheritance (describe the relationship, the year in which assets were inherited and a brief description of business/ professional activities of the person whom client has inherited assets from)- Others (e.g. sale of assets – to provide material evidence on the transaction)\\nSource of information | Origin of wealth: - Profit from business/ professional income- Inheritance (describe the relationship, the year in which assets were inherited and a brief description of business/ professional activities of the person whom client has inherited assets from)- Others (e.g. sale of assets – to provide material evidence on the transaction)\\nOrigin of wealth☒ Employment☒ Inheritance☐ Business☐ Investments☐ Sale of real estate☐ Retirement package☐ Other | Origin of wealth: - Profit from business/ professional income- Inheritance (describe the relationship, the year in which assets were inherited and a brief description of business/ professional activities of the person whom client has inherited assets from)- Others (e.g. sale of assets – to provide material evidence on the transaction)\\nOrigin of wealth☒ Employment☒ Inheritance☐ Business☐ Investments☐ Sale of real estate☐ Retirement package☐ Other | father,2014,Real Estate Developer | Origin of wealth: - Profit from business/ professional income- Inheritance (describe the relationship, the year in which assets were inherited and a brief description of business/ professional activities of the person whom client has inherited assets from)- Others (e.g. sale of assets – to provide material evidence on the transaction)\\nOrigin of wealth☒ Employment☒ Inheritance☐ Business☐ Investments☐ Sale of real estate☐ Retirement package☐ Other | Origin of wealth: - Profit from business/ professional income- Inheritance (describe the relationship, the year in which assets were inherited and a brief description of business/ professional activities of the person whom client has inherited assets from)- Others (e.g. sale of assets – to provide material evidence on the transaction)\\nOrigin of wealth☒ Employment☒ Inheritance☐ Business☐ Investments☐ Sale of real estate☐ Retirement package☐ Other | Origin of wealth: - Profit from business/ professional income- Inheritance (describe the relationship, the year in which assets were inherited and a brief description of business/ professional activities of the person whom client has inherited assets from)- Others (e.g. sale of assets – to provide material evidence on the transaction)\\nEstimated Assets | ☒  Real Estate\\tEUR\\t3360000☒  Business\\tEUR\\t500000☐  Investments\\tEUR\\t0\\t☐  Deposits/ MM/ Fiduciary\\tEUR\\t0\\t☐  Equity\\tEUR\\t0\\t☐  Fixed Income\\tEUR\\t0\\t☐  Structured Products\\tEUR\\t0\\t☐  Alternative Investments\\tEUR\\t0\\t☐  Investment Funds\\tEUR\\t0☐  Insurance\\tEUR\\t0☐  Other investments (e.g., art, wine, cars)\\tEUR\\t0 | Origin of wealth: - Profit from business/ professional income- Inheritance (describe the relationship, the year in which assets were inherited and a brief description of business/ professional activities of the person whom client has inherited assets from)- Others (e.g. sale of assets – to provide material evidence on the transaction)\\nAccount Holder – Professional and Economic Background – Income, Expenditures and Savings\\nEstimated Total income p.a. | ☐ < EUR 250,000\\t☒ EUR 250,000 - 500,000☐ EUR 500,000 – 1m☐ > EUR 1m, please state | including dividends, interests and investment income\\nCountry of main source of income | Belgium\\nAccount Information\\nAccount Number\\nCommercial Account | ☐ Yes\\t☒ No\\nInvestment Risk Profile | ☒ Low\\t☐ Moderate  ☐ Considerable ☐ High\\nType of Mandate | ☒ Advisory\\t☐ Discretionary\\nInvestment Experience | ☐ Inexperienced\\t☒ Experienced  ☐ Expert\\nInvestment Horizon | ☒ Short\\t☐ Medium  ☐ Long-Term\\nExpected Transactional Behavior\\nPreferred Markets | Belgium\\nAccount Information – Asset Under Management\\nTotal Asset Under Management | 4320000\\nAsset Under Management to transfer to BJB | 3412800'"
            ],
            "application/vnd.google.colaboratory.intrinsic+json": {
              "type": "string"
            }
          },
          "metadata": {},
          "execution_count": 69
        }
      ]
    },
    {
      "cell_type": "code",
      "source": [
        "\n",
        "def extract_checked_options_from_text(text):\n",
        "    checkbox_info = {}\n",
        "\n",
        "    lines = text.split(\"\\n\")\n",
        "    for line in lines:\n",
        "        if \"☒\" in line:  # only process lines that have at least one checked box\n",
        "            parts = line.split(\"|\")\n",
        "            label = parts[0].strip().lower() if len(parts) > 1 else \"unknown\"\n",
        "            options_text = \" | \".join(parts[1:]) if len(parts) > 1 else parts[0]\n",
        "\n",
        "            # Find all (☐ or ☒) followed by the option text (up to tab, pipe, or end of line)\n",
        "            matches = re.findall(r\"(☒|☐)\\s*([^\\t|☐☒]+)\", options_text)\n",
        "\n",
        "            # Get only the options with ☒\n",
        "            checked = [opt.strip().lower() for mark, opt in matches if mark == \"☒\"]\n",
        "\n",
        "            if checked:\n",
        "                checkbox_info[label] = checked if len(checked) > 1 else checked[0]\n",
        "\n",
        "    return checkbox_info\n",
        "\n",
        "docx_text = extract_docx_text_with_checkboxes(\"/content/client_1/profile (2).docx\")\n",
        "checkbox_data = extract_checked_options_from_text(docx_text)\n",
        "checkbox_data\n"
      ],
      "metadata": {
        "colab": {
          "base_uri": "https://localhost:8080/"
        },
        "id": "2JDaAsP06SQ-",
        "outputId": "9e94bdd1-900c-4dfe-9749-68e83142675e"
      },
      "execution_count": 72,
      "outputs": [
        {
          "output_type": "execute_result",
          "data": {
            "text/plain": [
              "{'gender': 'male',\n",
              " 'is the client or associated person a politically exposed person as defined in the client acceptance policy?': 'no',\n",
              " 'marital status': 'divorced',\n",
              " 'current employment and function': 'employee',\n",
              " 'total wealth estimated': 'eur 1.5m-5m',\n",
              " 'estimated assets': ['real estate', 'business'],\n",
              " 'estimated total income p.a.': 'eur 250,000 - 500,000',\n",
              " 'commercial account': 'no',\n",
              " 'investment risk profile': 'low',\n",
              " 'type of mandate': 'advisory',\n",
              " 'investment experience': 'experienced',\n",
              " 'investment horizon': 'short'}"
            ]
          },
          "metadata": {},
          "execution_count": 72
        }
      ]
    },
    {
      "cell_type": "markdown",
      "source": [
        "# USE THIS VERSION OF THE PARSER PLEASE"
      ],
      "metadata": {
        "id": "R_Lphlp-81hJ"
      }
    },
    {
      "cell_type": "code",
      "source": [
        "import re\n",
        "import unicodedata\n",
        "from docx import Document\n",
        "\n",
        "# Function to extract the raw text with checkboxes\n",
        "def extract_docx_text_with_checkboxes(file_path):\n",
        "    try:\n",
        "        doc = Document(file_path)\n",
        "    except Exception as e:\n",
        "        print(f\"Error reading DOCX file: {e}\")\n",
        "        return \"\"\n",
        "\n",
        "    all_text = []\n",
        "\n",
        "    for i, table in enumerate(doc.tables):\n",
        "        for row in table.rows:\n",
        "            row_text = []\n",
        "            for cell in row.cells:\n",
        "                cell_runs = []\n",
        "                for paragraph in cell.paragraphs:\n",
        "                    for run in paragraph.runs:\n",
        "                        cell_runs.append(run.text)\n",
        "                full_cell_text = \"\".join(cell_runs).strip()\n",
        "                if full_cell_text:\n",
        "                    row_text.append(full_cell_text)\n",
        "            if row_text:\n",
        "                all_text.append(\" | \".join(row_text))\n",
        "\n",
        "    return \"\\n\".join(all_text)\n",
        "\n",
        "# Function to extract the checked options from the text\n",
        "def extract_checked_options_from_text(text):\n",
        "    checkbox_info = {}\n",
        "\n",
        "    lines = text.split(\"\\n\")\n",
        "    for line in lines:\n",
        "        if \"☒\" in line:\n",
        "            parts = line.split(\"|\")\n",
        "            label = parts[0].strip().lower() if len(parts) > 1 else \"unknown\"\n",
        "            options_text = \" | \".join(parts[1:]) if len(parts) > 1 else parts[0]\n",
        "\n",
        "            matches = re.findall(r\"(☒|☐)\\s*([^\\t|☐☒]+)\", options_text)\n",
        "\n",
        "            checked = [opt.strip().lower() for mark, opt in matches if mark == \"☒\"]\n",
        "\n",
        "            if checked:\n",
        "                checkbox_info[label] = checked if len(checked) > 1 else checked[0]\n",
        "\n",
        "    return checkbox_info\n",
        "\n",
        "# Main class to process DOCX files\n",
        "class DOCXProcessor:\n",
        "    def __init__(self, file_path):\n",
        "        self.file_path = file_path\n",
        "        self.text = \"\"\n",
        "        self.cleaned_text = \"\"\n",
        "        self.personal_info = {}\n",
        "        self.tickable_info = {}\n",
        "        self.communication_info = {}\n",
        "\n",
        "    # 1. Extract raw text\n",
        "    def extract_text(self):\n",
        "        self.text = extract_docx_text_with_checkboxes(self.file_path)\n",
        "\n",
        "    # 2. Clean the extracted text\n",
        "    def clean_text(self):\n",
        "        text = unicodedata.normalize(\"NFKD\", self.text)\n",
        "        text = re.sub(r\"[^a-zA-Z0-9☐☒.,!?%€$-:\\n\\s@()]\", \" \", text)  # preserve checkboxes and special chars\n",
        "        text = text.lower()\n",
        "        text = re.sub(r\"\\s+\", \" \", text).strip()\n",
        "        self.cleaned_text = text\n",
        "\n",
        "    # 3. Extract text input and checked options\n",
        "    def extract_info(self):\n",
        "        personal_info_patterns = {\n",
        "            \"last_name\": r\"last name\\s*([\\w\\-]+)(?=\\s*(first/ middle name \\(s\\)|address|country of domicile|date of birth|nationality|passport no|id type|id issue date|id expiry date))\",\n",
        "            \"first_name\": r\"first/ middle name \\(s\\)\\s*([\\w\\s]+)(?=\\s*(address|country of domicile|date of birth|nationality|passport no|id type|id issue date|id expiry date))\",\n",
        "            \"address\": r\"address\\s*([\\w\\s,.-]+?)(?=\\s*(country of domicile|date of birth|nationality|passport no|id type|id issue date|id expiry date))\",\n",
        "            \"country_of_domicile\": r\"country of domicile\\s*([\\w\\s]+)(?=\\s*(date of birth|nationality|passport no|id type|id issue date|id expiry date))\",\n",
        "            \"date_of_birth\": r\"date of birth\\s*(\\d{4}-\\d{2}-\\d{2})(?=\\s*(nationality|passport no|id type|id issue date|id expiry date))\",\n",
        "            \"nationality\": r\"nationality\\s*([\\w\\s]+)(?=\\s*(passport no|id type|id issue date|id expiry date))\",\n",
        "            \"passport_no\": r\"passport no/ unique id\\s*([\\w\\d]+)(?=\\s*(id type|id issue date|id expiry date))\",\n",
        "            \"id_type\": r\"id type\\s*([\\w\\s]+)(?=\\s*(id issue date|id expiry date))\",\n",
        "            \"id_issue_date\": r\"id issue date\\s*(\\d{4}-\\d{2}-\\d{2})(?=\\s*id expiry date)\",\n",
        "            \"id_expiry_date\": r\"id expiry date\\s*(\\d{4}-\\d{2}-\\d{2})\",\n",
        "            \"telephone\": r\"telephone\\s*(\\+[\\d\\s]+)(?=\\s*(e-mail|email))\",\n",
        "            \"email\": r\"(e[-\\s]*mail|email)\\s*([\\w\\.-]+@[\\w\\.-]+)(?=\\s*(telephone|country of domicile|date of birth|nationality|passport no|id type))\",\n",
        "        }\n",
        "\n",
        "        # Extract personal information\n",
        "        for key, pattern in personal_info_patterns.items():\n",
        "            match = re.search(pattern, self.cleaned_text)\n",
        "            if match:\n",
        "                if key == \"first_name\":\n",
        "                    full_name = match.group(1).strip()\n",
        "                    names = full_name.split()\n",
        "                    self.personal_info[\"first_name\"] = names[0]\n",
        "                    self.personal_info[\"middle_name\"] = \" \".join(names[1:]) if len(names) > 1 else \"\"\n",
        "                else:\n",
        "                    self.personal_info[key] = match.group(1)\n",
        "\n",
        "        # Extract tickable fields\n",
        "        self.tickable_info = extract_checked_options_from_text(self.text)\n",
        "\n",
        "    # Extract communication fields (telephone, email)\n",
        "    def extract_communication_info(self):\n",
        "        communication_patterns = {\n",
        "            \"telephone\": r\"telephone\\s*([\\+0-9\\s\\-\\(\\)]+)(?=\\s*(e[-\\s]*mail|email))\",\n",
        "            \"email\": r\"(e[-\\s]*mail|email)\\s*([\\w\\.-]+@[\\w\\.-]+)\"\n",
        "        }\n",
        "\n",
        "        # Extract communication information\n",
        "        for key, pattern in communication_patterns.items():\n",
        "            match = re.search(pattern, self.cleaned_text)\n",
        "            if match:\n",
        "                self.communication_info[key] = match.group(2).strip()  # Adjusted to capture the email address correctly\n",
        "\n",
        "    # Run the full pipeline\n",
        "    def run_pipeline(self):\n",
        "        self.extract_text()\n",
        "        self.clean_text()\n",
        "        self.extract_info()\n",
        "        self.extract_communication_info()\n",
        "\n",
        "        # Combine personal info with tickable options\n",
        "        final_info = {**self.personal_info, **self.tickable_info, **self.communication_info}\n",
        "\n",
        "        return {\n",
        "            \"text\": final_info,\n",
        "            \"cleaned_text\": self.cleaned_text,\n",
        "            \"info\": final_info,\n",
        "            \"tickables\": self.tickable_info\n",
        "        }\n",
        "\n",
        "# Example usage\n",
        "if __name__ == \"__main__\":\n",
        "    file_path = \"/content/client_1/profile (2).docx\"  # Update with actual file path\n",
        "    processor = DOCXProcessor(file_path)\n",
        "    result = processor.run_pipeline()\n",
        "\n",
        "    print(\"\\nFinal text dict:\")\n",
        "    print(result[\"text\"])\n",
        "\n",
        "    print(\"\\nFinal tickable fields dict:\")\n",
        "    print(result[\"tickables\"])\n"
      ],
      "metadata": {
        "colab": {
          "base_uri": "https://localhost:8080/"
        },
        "id": "AizHuKZN_aAU",
        "outputId": "d11fd86e-28c1-45b2-9f37-2bf9b9fa87d8"
      },
      "execution_count": 83,
      "outputs": [
        {
          "output_type": "stream",
          "name": "stdout",
          "text": [
            "\n",
            "Final text dict:\n",
            "{'last_name': 'sanders', 'first_name': 'simon', 'middle_name': 'samuel', 'address': 'rue de la loi 38, 2999 namur', 'country_of_domicile': 'belgium ', 'date_of_birth': '1967-10-25', 'nationality': 'belgian ', 'passport_no': 'ql3957717', 'id_type': 'passport ', 'id_issue_date': '2021-03-04', 'id_expiry_date': '2028-03-03', 'telephone': 'e-mail', 'gender': 'male', 'is the client or associated person a politically exposed person as defined in the client acceptance policy?': 'no', 'marital status': 'divorced', 'current employment and function': 'employee', 'total wealth estimated': 'eur 1.5m-5m', 'estimated assets': ['real estate', 'business'], 'estimated total income p.a.': 'eur 250,000 - 500,000', 'commercial account': 'no', 'investment risk profile': 'low', 'type of mandate': 'advisory', 'investment experience': 'experienced', 'investment horizon': 'short', 'email': 'simon.sanders@voo.be'}\n",
            "\n",
            "Final tickable fields dict:\n",
            "{'gender': 'male', 'is the client or associated person a politically exposed person as defined in the client acceptance policy?': 'no', 'marital status': 'divorced', 'current employment and function': 'employee', 'total wealth estimated': 'eur 1.5m-5m', 'estimated assets': ['real estate', 'business'], 'estimated total income p.a.': 'eur 250,000 - 500,000', 'commercial account': 'no', 'investment risk profile': 'low', 'type of mandate': 'advisory', 'investment experience': 'experienced', 'investment horizon': 'short'}\n"
          ]
        }
      ]
    },
    {
      "cell_type": "code",
      "source": [],
      "metadata": {
        "id": "AAqpw9eqADzA"
      },
      "execution_count": null,
      "outputs": []
    }
  ]
}