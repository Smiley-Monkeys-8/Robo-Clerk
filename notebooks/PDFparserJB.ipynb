{
  "cells": [
    {
      "cell_type": "markdown",
      "metadata": {
        "id": "POmvukq0T2YD"
      },
      "source": [
        "# PDF parser\n"
      ]
    },
    {
      "cell_type": "code",
      "execution_count": 1,
      "metadata": {
        "colab": {
          "base_uri": "https://localhost:8080/"
        },
        "id": "CVAnConZfPr4",
        "outputId": "94e9db5b-518e-4349-db3b-16ec2dada421"
      },
      "outputs": [
        {
          "name": "stdout",
          "output_type": "stream",
          "text": [
            "Collecting PyPDF2\n",
            "  Downloading pypdf2-3.0.1-py3-none-any.whl.metadata (6.8 kB)\n",
            "Downloading pypdf2-3.0.1-py3-none-any.whl (232 kB)\n",
            "\u001b[?25l   \u001b[90m━━━━━━━━━━━━━━━━━━━━━━━━━━━━━━━━━━━━━━━━\u001b[0m \u001b[32m0.0/232.6 kB\u001b[0m \u001b[31m?\u001b[0m eta \u001b[36m-:--:--\u001b[0m\r\u001b[2K   \u001b[91m━━━━━━━━━━━━━━━━━━━━━━━━━━━━━━━━━━━━━━\u001b[0m\u001b[91m╸\u001b[0m\u001b[90m━\u001b[0m \u001b[32m225.3/232.6 kB\u001b[0m \u001b[31m10.5 MB/s\u001b[0m eta \u001b[36m0:00:01\u001b[0m\r\u001b[2K   \u001b[90m━━━━━━━━━━━━━━━━━━━━━━━━━━━━━━━━━━━━━━━━\u001b[0m \u001b[32m232.6/232.6 kB\u001b[0m \u001b[31m6.2 MB/s\u001b[0m eta \u001b[36m0:00:00\u001b[0m\n",
            "\u001b[?25hInstalling collected packages: PyPDF2\n",
            "Successfully installed PyPDF2-3.0.1\n"
          ]
        }
      ],
      "source": [
        "%pip install PyPDF2"
      ]
    },
    {
      "cell_type": "code",
      "execution_count": 6,
      "metadata": {
        "colab": {
          "base_uri": "https://localhost:8080/"
        },
        "id": "5LGCzR6dVoZS",
        "outputId": "40de94d8-1e5d-4f01-de1b-0fd942a5a707"
      },
      "outputs": [
        {
          "name": "stdout",
          "output_type": "stream",
          "text": [
            "Collecting pdfplumber\n",
            "  Downloading pdfplumber-0.11.6-py3-none-any.whl.metadata (42 kB)\n",
            "\u001b[?25l     \u001b[90m━━━━━━━━━━━━━━━━━━━━━━━━━━━━━━━━━━━━━━━━\u001b[0m \u001b[32m0.0/42.8 kB\u001b[0m \u001b[31m?\u001b[0m eta \u001b[36m-:--:--\u001b[0m\r\u001b[2K     \u001b[90m━━━━━━━━━━━━━━━━━━━━━━━━━━━━━━━━━━━━━━━━\u001b[0m \u001b[32m42.8/42.8 kB\u001b[0m \u001b[31m2.5 MB/s\u001b[0m eta \u001b[36m0:00:00\u001b[0m\n",
            "\u001b[?25hCollecting pdfminer.six==20250327 (from pdfplumber)\n",
            "  Downloading pdfminer_six-20250327-py3-none-any.whl.metadata (4.1 kB)\n",
            "Requirement already satisfied: Pillow>=9.1 in /usr/local/lib/python3.11/dist-packages (from pdfplumber) (11.1.0)\n",
            "Collecting pypdfium2>=4.18.0 (from pdfplumber)\n",
            "  Downloading pypdfium2-4.30.1-py3-none-manylinux_2_17_x86_64.manylinux2014_x86_64.whl.metadata (48 kB)\n",
            "\u001b[2K     \u001b[90m━━━━━━━━━━━━━━━━━━━━━━━━━━━━━━━━━━━━━━━━\u001b[0m \u001b[32m48.2/48.2 kB\u001b[0m \u001b[31m3.1 MB/s\u001b[0m eta \u001b[36m0:00:00\u001b[0m\n",
            "\u001b[?25hRequirement already satisfied: charset-normalizer>=2.0.0 in /usr/local/lib/python3.11/dist-packages (from pdfminer.six==20250327->pdfplumber) (3.4.1)\n",
            "Requirement already satisfied: cryptography>=36.0.0 in /usr/local/lib/python3.11/dist-packages (from pdfminer.six==20250327->pdfplumber) (43.0.3)\n",
            "Requirement already satisfied: cffi>=1.12 in /usr/local/lib/python3.11/dist-packages (from cryptography>=36.0.0->pdfminer.six==20250327->pdfplumber) (1.17.1)\n",
            "Requirement already satisfied: pycparser in /usr/local/lib/python3.11/dist-packages (from cffi>=1.12->cryptography>=36.0.0->pdfminer.six==20250327->pdfplumber) (2.22)\n",
            "Downloading pdfplumber-0.11.6-py3-none-any.whl (60 kB)\n",
            "\u001b[2K   \u001b[90m━━━━━━━━━━━━━━━━━━━━━━━━━━━━━━━━━━━━━━━━\u001b[0m \u001b[32m60.2/60.2 kB\u001b[0m \u001b[31m4.2 MB/s\u001b[0m eta \u001b[36m0:00:00\u001b[0m\n",
            "\u001b[?25hDownloading pdfminer_six-20250327-py3-none-any.whl (5.6 MB)\n",
            "\u001b[2K   \u001b[90m━━━━━━━━━━━━━━━━━━━━━━━━━━━━━━━━━━━━━━━━\u001b[0m \u001b[32m5.6/5.6 MB\u001b[0m \u001b[31m55.7 MB/s\u001b[0m eta \u001b[36m0:00:00\u001b[0m\n",
            "\u001b[?25hDownloading pypdfium2-4.30.1-py3-none-manylinux_2_17_x86_64.manylinux2014_x86_64.whl (2.9 MB)\n",
            "\u001b[2K   \u001b[90m━━━━━━━━━━━━━━━━━━━━━━━━━━━━━━━━━━━━━━━━\u001b[0m \u001b[32m2.9/2.9 MB\u001b[0m \u001b[31m67.3 MB/s\u001b[0m eta \u001b[36m0:00:00\u001b[0m\n",
            "\u001b[?25hInstalling collected packages: pypdfium2, pdfminer.six, pdfplumber\n",
            "Successfully installed pdfminer.six-20250327 pdfplumber-0.11.6 pypdfium2-4.30.1\n"
          ]
        }
      ],
      "source": [
        "%pip install pdfplumber"
      ]
    },
    {
      "cell_type": "markdown",
      "metadata": {
        "id": "pq9mjZNPZdbt"
      },
      "source": [
        "# FINAL CLASS TO BE USED"
      ]
    },
    {
      "cell_type": "code",
      "execution_count": 2,
      "metadata": {
        "id": "YLO_2XMmVYQe"
      },
      "outputs": [],
      "source": [
        "import os\n",
        "import re\n",
        "import unicodedata\n",
        "from PyPDF2 import PdfReader\n",
        "import pdfplumber\n"
      ]
    },
    {
      "cell_type": "markdown",
      "metadata": {},
      "source": [
        "# PDF Processor\n",
        "\n",
        "Class to process PDFs"
      ]
    },
    {
      "cell_type": "code",
      "execution_count": 7,
      "metadata": {
        "colab": {
          "base_uri": "https://localhost:8080/"
        },
        "id": "Ouy9T4LxUXiU",
        "outputId": "8cf4ea5f-b3ed-4b1d-e979-b4d7fd2d9ea4"
      },
      "outputs": [],
      "source": [
        "class PDFProcessor:\n",
        "    def __init__(self, folder_path):\n",
        "        self.folder_path = folder_path\n",
        "        self.pdf_paths = self.load_pdf_paths()\n",
        "        self.text = \"\"\n",
        "        self.form_fields = {}\n",
        "        self.signature_found = False\n",
        "\n",
        "\n",
        "  # 1. Loading PDF file paths from a folder\n",
        "    def load_pdf_paths(self):\n",
        "        return [\n",
        "            os.path.join(self.folder_path, f)\n",
        "            for f in os.listdir(self.folder_path)\n",
        "            if f.lower().endswith(\".pdf\")\n",
        "        ]\n",
        "\n",
        "  # 2. Extracting text and form fields from PDF files\n",
        "    def extract_text_and_fields(self):\n",
        "        all_text = \"\"\n",
        "        all_fields = {}\n",
        "\n",
        "        for pdf_path in self.pdf_paths:\n",
        "            reader = PdfReader(pdf_path)\n",
        "\n",
        "            # Extract text\n",
        "            for page in reader.pages:\n",
        "                page_text = page.extract_text()\n",
        "                if page_text:\n",
        "                    all_text += page_text + \"\\n\"\n",
        "\n",
        "            # Extract form fields\n",
        "            fields = reader.get_fields()\n",
        "            if fields:\n",
        "                for key, field in fields.items():\n",
        "                    value = field.get(\"/V\")\n",
        "                    all_fields[key] = str(value) if value is not None else None\n",
        "\n",
        "        self.text = all_text\n",
        "        self.form_fields = all_fields\n",
        "\n",
        "       # print(\"Form field keys:\", self.form_fields.keys())\n",
        "       # print(\"\\nExtracted Form Fields (User Input):\\n\", self.form_fields)\n",
        "\n",
        "  # 3. Cleaning the text\n",
        "    def clean_text(self):\n",
        "        text = unicodedata.normalize(\"NFKD\", self.text)\n",
        "        text = re.sub(r\"[^a-zA-Z0-9.,!?%€$-]\", \" \", text)\n",
        "        text = text.lower()\n",
        "        text = re.sub(r\"\\s+\", \" \", text).strip()\n",
        "        text = re.sub(r\"\\.{5,}\", \" \", text)\n",
        "        self.text = text\n",
        "\n",
        "  # 4. Extracting and storing client info from cleaned text\n",
        "    def extract_client_info(self):\n",
        "        client_info = dict(self.form_fields)  # Making a copy of the form fields\n",
        "        client_info[\"signature_image_found\"] = self.signature_found\n",
        "\n",
        "        #print(\"Extracted client info:\", self.form_fields)\n",
        "        return client_info\n",
        "\n",
        "    # 5. checking for signature\n",
        "    def detect_signature_as_image(self):\n",
        "\n",
        "        pdf_path = self.pdf_paths[0]\n",
        "        with pdfplumber.open(pdf_path) as pdf:\n",
        "            page = pdf.pages[0]\n",
        "            images = page.images\n",
        "            self.signature_found = bool(images)\n",
        "\n",
        "            if images:\n",
        "                print(f\"Signature found.\")\n",
        "                return True\n",
        "            else:\n",
        "                print(f\"No signature found.\")\n",
        "                return False\n",
        "\n",
        "    def run_pipeline(self):\n",
        "        self.extract_text_and_fields()\n",
        "        self.clean_text()\n",
        "        self.detect_signature_as_image()\n",
        "\n",
        "        return {\n",
        "            \"client_info\": self.extract_client_info()\n",
        "        }\n",
        "\n",
        "# TO DO FOR CLASSIFICATION :\n",
        "# if any field is None -- Reject\n",
        "# if currency all '/Off' & 'other_ccy' not appearing -- Reject"
      ]
    },
    {
      "cell_type": "markdown",
      "metadata": {},
      "source": [
        "# Processing\n",
        "\n",
        "Here we are processing the PDF text"
      ]
    },
    {
      "cell_type": "code",
      "execution_count": 13,
      "metadata": {},
      "outputs": [
        {
          "name": "stderr",
          "output_type": "stream",
          "text": [
            "CropBox missing from /Page, defaulting to MediaBox\n",
            "CropBox missing from /Page, defaulting to MediaBox\n"
          ]
        },
        {
          "name": "stdout",
          "output_type": "stream",
          "text": [
            "Signature found.\n",
            "\n",
            "All steps completed. Data retrieved:\n",
            "{'client_info': {'account_name': 'Lia Sara Costa', 'account_holder_name': 'Lia Sara', 'account_holder_surname': 'Costa', 'passport_number': 'SV5946944', 'chf': '/Off', 'eur': '/Yes', 'usd': '/Off', 'other_ccy': '', 'building_number': '27', 'postal_code': '7771-876', 'city': 'Porto', 'country': 'Portugal', 'name': 'Lia Sara Costa', 'phone_number': '+351 965 492 552', 'email': 'lia.costa@yahoo.com', 'street_name': 'Avenida Almirante Reis', 'signature_image_found': True}}\n"
          ]
        }
      ],
      "source": [
        "import json\n",
        "import os\n",
        "\n",
        "\n",
        "input_folder_path = \"../downloads/\"\n",
        "output_folder_path = \"../data/\"\n",
        "processor = PDFProcessor(input_folder_path)\n",
        "data = processor.run_pipeline()\n",
        "print(\"\\nAll steps completed. Data retrieved:\")\n",
        "os.makedirs(output_folder_path, exist_ok=True)\n",
        "with open(os.path.join(output_folder_path, \"account.pdf.json\"), \"w\") as json_from_pdf:\n",
        "  pdf_pretty_json = json.dumps(data, indent=2)\n",
        "  json_from_pdf.write(pdf_pretty_json)\n",
        "print(data)"
      ]
    }
  ],
  "metadata": {
    "colab": {
      "provenance": []
    },
    "kernelspec": {
      "display_name": ".venv",
      "language": "python",
      "name": "python3"
    },
    "language_info": {
      "codemirror_mode": {
        "name": "ipython",
        "version": 3
      },
      "file_extension": ".py",
      "mimetype": "text/x-python",
      "name": "python",
      "nbconvert_exporter": "python",
      "pygments_lexer": "ipython3",
      "version": "3.10.13"
    }
  },
  "nbformat": 4,
  "nbformat_minor": 0
}
