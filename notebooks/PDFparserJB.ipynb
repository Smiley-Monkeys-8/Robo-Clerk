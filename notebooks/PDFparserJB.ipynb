{
  "nbformat": 4,
  "nbformat_minor": 0,
  "metadata": {
    "colab": {
      "provenance": []
    },
    "kernelspec": {
      "name": "python3",
      "display_name": "Python 3"
    },
    "language_info": {
      "name": "python"
    }
  },
  "cells": [
    {
      "cell_type": "markdown",
      "source": [
        "# PDF parser\n"
      ],
      "metadata": {
        "id": "POmvukq0T2YD"
      }
    },
    {
      "cell_type": "code",
      "source": [
        "%pip install PyPDF2"
      ],
      "metadata": {
        "colab": {
          "base_uri": "https://localhost:8080/"
        },
        "id": "CVAnConZfPr4",
        "outputId": "d0876fd1-6941-4f70-b666-645a2e546234"
      },
      "execution_count": 5,
      "outputs": [
        {
          "output_type": "stream",
          "name": "stdout",
          "text": [
            "Collecting PyPDF2\n",
            "  Downloading pypdf2-3.0.1-py3-none-any.whl.metadata (6.8 kB)\n",
            "Downloading pypdf2-3.0.1-py3-none-any.whl (232 kB)\n",
            "\u001b[2K   \u001b[90m━━━━━━━━━━━━━━━━━━━━━━━━━━━━━━━━━━━━━━━━\u001b[0m \u001b[32m232.6/232.6 kB\u001b[0m \u001b[31m3.8 MB/s\u001b[0m eta \u001b[36m0:00:00\u001b[0m\n",
            "\u001b[?25hInstalling collected packages: PyPDF2\n",
            "Successfully installed PyPDF2-3.0.1\n"
          ]
        }
      ]
    },
    {
      "cell_type": "code",
      "source": [
        "import os\n",
        "import re\n",
        "import unicodedata\n",
        "from PyPDF2 import PdfReader\n",
        "\n",
        "# 1. Loading PDF file paths from a folder\n",
        "def load_pdf_paths(pdf_folder):\n",
        "    return [os.path.join(pdf_folder, f) for f in os.listdir(pdf_folder) if f.lower().endswith(\".pdf\")]\n",
        "\n",
        "# 2. Extracting text and form fields from PDF files\n",
        "def get_pdf_text_and_fields(pdf_folder_path):\n",
        "    all_text = \"\"\n",
        "    all_fields = {}\n",
        "\n",
        "    pdf_files = load_pdf_paths(pdf_folder_path)\n",
        "\n",
        "    for pdf_path in pdf_files:\n",
        "        reader = PdfReader(pdf_path)\n",
        "\n",
        "        # Extracting text from pages\n",
        "        for page in reader.pages:\n",
        "            page_text = page.extract_text()\n",
        "            if page_text:\n",
        "                all_text += page_text + \"\\n\"\n",
        "\n",
        "        # Extracting form fields (user input)\n",
        "        fields = reader.get_fields()\n",
        "        if fields:\n",
        "            for key, field in fields.items():\n",
        "                field_value = field.get('/V')\n",
        "                all_fields[key] = str(field_value) if field_value is not None else None\n",
        "\n",
        "\n",
        "    # print(\"Extracted Text:\\n\", all_text)\n",
        "    print(\"Form field keys:\", all_fields.keys())\n",
        "    print(\"\\nExtracted Form Fields (User Input):\\n\", all_fields)\n",
        "    return all_text, all_fields\n",
        "\n",
        "# 3. Cleaning the text\n",
        "def clean_text(text):\n",
        "    text = unicodedata.normalize(\"NFKD\", text) # needed for special characters DO IT IN OTHER TYPES OF FILE TOO\n",
        "    text = re.sub(r\"[^a-zA-Z0-9.,!?%€$-]\", \" \", text)\n",
        "    text = text.lower()\n",
        "    text = re.sub(r\"\\s+\", \" \", text).strip()\n",
        "    text = re.sub(r\"\\.{5,}\", \" \", text)\n",
        "    return text\n",
        "\n",
        "# 6. Extracting and storing client info from cleaned text\n",
        "def extract_client_info(form_fields):\n",
        "\n",
        "    signature = form_fields.get(\"Specimen Signature:\")\n",
        "    signature_filled = bool(signature and str(signature).strip() != \"\" and str(signature) != \"/Off\")\n",
        "    print(signature_filled)\n",
        "\n",
        "    # Just return the form_fields directly as client_info\n",
        "    print(\"Extracted client info:\", form_fields)\n",
        "    return form_fields\n",
        "\n",
        "\n",
        "# 7. Main PDF processing function\n",
        "def process_pdfs(pdf_folder):\n",
        "    raw_text, form_fields = get_pdf_text_and_fields(pdf_folder)\n",
        "    client_info = extract_client_info(form_fields)\n",
        "\n",
        "    return {\n",
        "        \"client_info\": client_info\n",
        "    }\n",
        "\n",
        "# 8. Run the pipeline\n",
        "if __name__ == \"__main__\":\n",
        "    folder_path = \"/content/client_1\"  # <- update this path as needed\n",
        "    data = process_pdfs(folder_path)\n",
        "    print(\"\\nPipeline complete. Data summary:\")\n",
        "    print(data)\n",
        "\n",
        "# TO DO FOR CLASSIFICATION :\n",
        "# if any field is None -- Reject\n",
        "# if currency all '/Off' & 'other_ccy' not appearing -- Reject\n"
      ],
      "metadata": {
        "id": "YycmRyCdlCX_",
        "colab": {
          "base_uri": "https://localhost:8080/"
        },
        "outputId": "9121e6db-380e-4889-a342-7621481591af"
      },
      "execution_count": 45,
      "outputs": [
        {
          "output_type": "stream",
          "name": "stdout",
          "text": [
            "Form field keys: dict_keys(['account_name', 'account_holder_name', 'account_holder_surname', 'passport_number', 'chf', 'eur', 'usd', 'other_ccy', 'building_number', 'postal_code', 'city', 'country', 'name', 'phone_number', 'email', 'street_name'])\n",
            "\n",
            "Extracted Form Fields (User Input):\n",
            " {'account_name': 'Joona Onni Niskanen', 'account_holder_name': 'Joona Onni', 'account_holder_surname': 'Niskanen', 'passport_number': 'GB7720776', 'chf': '/Off', 'eur': '/Yes', 'usd': '/Off', 'other_ccy': '', 'building_number': '61', 'postal_code': '28356', 'city': 'Oulu', 'country': 'Finland', 'name': 'Joona Onni Niskanen', 'phone_number': '+358 049 614 09 81', 'email': 'joona.niskanen@gmail.com', 'street_name': 'Pyynikintie'}\n",
            "False\n",
            "Extracted client info: {'account_name': 'Joona Onni Niskanen', 'account_holder_name': 'Joona Onni', 'account_holder_surname': 'Niskanen', 'passport_number': 'GB7720776', 'chf': '/Off', 'eur': '/Yes', 'usd': '/Off', 'other_ccy': '', 'building_number': '61', 'postal_code': '28356', 'city': 'Oulu', 'country': 'Finland', 'name': 'Joona Onni Niskanen', 'phone_number': '+358 049 614 09 81', 'email': 'joona.niskanen@gmail.com', 'street_name': 'Pyynikintie'}\n",
            "\n",
            "Pipeline complete. Data summary:\n",
            "{'client_info': {'account_name': 'Joona Onni Niskanen', 'account_holder_name': 'Joona Onni', 'account_holder_surname': 'Niskanen', 'passport_number': 'GB7720776', 'chf': '/Off', 'eur': '/Yes', 'usd': '/Off', 'other_ccy': '', 'building_number': '61', 'postal_code': '28356', 'city': 'Oulu', 'country': 'Finland', 'name': 'Joona Onni Niskanen', 'phone_number': '+358 049 614 09 81', 'email': 'joona.niskanen@gmail.com', 'street_name': 'Pyynikintie'}}\n"
          ]
        }
      ]
    },
    {
      "cell_type": "markdown",
      "source": [
        "# Checking if PDF was signed or not"
      ],
      "metadata": {
        "id": "OjfXVXlPLcOa"
      }
    },
    {
      "cell_type": "code",
      "source": [
        "%pip install pdfplumber"
      ],
      "metadata": {
        "colab": {
          "base_uri": "https://localhost:8080/"
        },
        "id": "MrKoIxsxGnp5",
        "outputId": "f5484845-7e8a-409b-cf23-2c7825cd4fb7"
      },
      "execution_count": 46,
      "outputs": [
        {
          "output_type": "stream",
          "name": "stdout",
          "text": [
            "Collecting pdfplumber\n",
            "  Downloading pdfplumber-0.11.6-py3-none-any.whl.metadata (42 kB)\n",
            "\u001b[?25l     \u001b[90m━━━━━━━━━━━━━━━━━━━━━━━━━━━━━━━━━━━━━━━━\u001b[0m \u001b[32m0.0/42.8 kB\u001b[0m \u001b[31m?\u001b[0m eta \u001b[36m-:--:--\u001b[0m\r\u001b[2K     \u001b[90m━━━━━━━━━━━━━━━━━━━━━━━━━━━━━━━━━━━━━━━━\u001b[0m \u001b[32m42.8/42.8 kB\u001b[0m \u001b[31m1.8 MB/s\u001b[0m eta \u001b[36m0:00:00\u001b[0m\n",
            "\u001b[?25hCollecting pdfminer.six==20250327 (from pdfplumber)\n",
            "  Downloading pdfminer_six-20250327-py3-none-any.whl.metadata (4.1 kB)\n",
            "Requirement already satisfied: Pillow>=9.1 in /usr/local/lib/python3.11/dist-packages (from pdfplumber) (11.1.0)\n",
            "Collecting pypdfium2>=4.18.0 (from pdfplumber)\n",
            "  Downloading pypdfium2-4.30.1-py3-none-manylinux_2_17_x86_64.manylinux2014_x86_64.whl.metadata (48 kB)\n",
            "\u001b[2K     \u001b[90m━━━━━━━━━━━━━━━━━━━━━━━━━━━━━━━━━━━━━━━━\u001b[0m \u001b[32m48.2/48.2 kB\u001b[0m \u001b[31m2.9 MB/s\u001b[0m eta \u001b[36m0:00:00\u001b[0m\n",
            "\u001b[?25hRequirement already satisfied: charset-normalizer>=2.0.0 in /usr/local/lib/python3.11/dist-packages (from pdfminer.six==20250327->pdfplumber) (3.4.1)\n",
            "Requirement already satisfied: cryptography>=36.0.0 in /usr/local/lib/python3.11/dist-packages (from pdfminer.six==20250327->pdfplumber) (43.0.3)\n",
            "Requirement already satisfied: cffi>=1.12 in /usr/local/lib/python3.11/dist-packages (from cryptography>=36.0.0->pdfminer.six==20250327->pdfplumber) (1.17.1)\n",
            "Requirement already satisfied: pycparser in /usr/local/lib/python3.11/dist-packages (from cffi>=1.12->cryptography>=36.0.0->pdfminer.six==20250327->pdfplumber) (2.22)\n",
            "Downloading pdfplumber-0.11.6-py3-none-any.whl (60 kB)\n",
            "\u001b[2K   \u001b[90m━━━━━━━━━━━━━━━━━━━━━━━━━━━━━━━━━━━━━━━━\u001b[0m \u001b[32m60.2/60.2 kB\u001b[0m \u001b[31m4.0 MB/s\u001b[0m eta \u001b[36m0:00:00\u001b[0m\n",
            "\u001b[?25hDownloading pdfminer_six-20250327-py3-none-any.whl (5.6 MB)\n",
            "\u001b[2K   \u001b[90m━━━━━━━━━━━━━━━━━━━━━━━━━━━━━━━━━━━━━━━━\u001b[0m \u001b[32m5.6/5.6 MB\u001b[0m \u001b[31m36.4 MB/s\u001b[0m eta \u001b[36m0:00:00\u001b[0m\n",
            "\u001b[?25hDownloading pypdfium2-4.30.1-py3-none-manylinux_2_17_x86_64.manylinux2014_x86_64.whl (2.9 MB)\n",
            "\u001b[2K   \u001b[90m━━━━━━━━━━━━━━━━━━━━━━━━━━━━━━━━━━━━━━━━\u001b[0m \u001b[32m2.9/2.9 MB\u001b[0m \u001b[31m44.9 MB/s\u001b[0m eta \u001b[36m0:00:00\u001b[0m\n",
            "\u001b[?25hInstalling collected packages: pypdfium2, pdfminer.six, pdfplumber\n",
            "Successfully installed pdfminer.six-20250327 pdfplumber-0.11.6 pypdfium2-4.30.1\n"
          ]
        }
      ]
    },
    {
      "cell_type": "code",
      "source": [
        "import pdfplumber\n",
        "\n",
        "def detect_signature_in_pdf(pdf_path):\n",
        "    with pdfplumber.open(pdf_path) as pdf:\n",
        "        for page_num, page in enumerate(pdf.pages):\n",
        "            # Getting text from the page\n",
        "            text = page.extract_text()\n",
        "\n",
        "            if text and (\"specimen signature\" in text.lower()):\n",
        "                # You can also extract the name/signature value next to it, if present\n",
        "                pattern = r\"specimen signature\\s*:?\\s*([A-Za-z\\s]+)\"\n",
        "                match = re.search(pattern, text, re.IGNORECASE)\n",
        "                if match:\n",
        "                    print(f\"Signature filled with: {match.group(1)}\")\n",
        "                else:\n",
        "                    print(\"Specimen signature label found, but no value next to it.\")\n",
        "            else:\n",
        "                print(f\"No signature field found on page {page_num + 1}.\")\n",
        "\n",
        "pdf_path = \"/content/client_1/account.pdf\"\n",
        "detect_signature_in_pdf(pdf_path)\n"
      ],
      "metadata": {
        "colab": {
          "base_uri": "https://localhost:8080/"
        },
        "id": "3DlslR5pGoO_",
        "outputId": "335f96a7-41b7-4d47-b0b4-e98655fc1853"
      },
      "execution_count": 47,
      "outputs": [
        {
          "output_type": "stream",
          "name": "stderr",
          "text": [
            "WARNING:pdfminer.pdfpage:CropBox missing from /Page, defaulting to MediaBox\n",
            "WARNING:pdfminer.pdfpage:CropBox missing from /Page, defaulting to MediaBox\n"
          ]
        },
        {
          "output_type": "stream",
          "name": "stdout",
          "text": [
            "Signature field found on page 1.\n",
            "Signature filled with: BANK JULIUS BAER \n"
          ]
        }
      ]
    },
    {
      "cell_type": "code",
      "source": [
        "import pdfplumber\n",
        "\n",
        "def detect_signature_as_image(pdf_path):\n",
        "    with pdfplumber.open(pdf_path) as pdf:\n",
        "        page = pdf.pages[0]\n",
        "\n",
        "        # Checking if there's an image on the page (signature is image I think)\n",
        "        images = page.images\n",
        "\n",
        "        if images:\n",
        "            print(\"Signature found on the page.\")\n",
        "        else:\n",
        "            print(\"No images found on the page.\")\n",
        "\n",
        "pdf_path = \"/content/client_1/account.pdf\"\n",
        "detect_signature_as_image(pdf_path)\n",
        "\n",
        "# TO DO in classifiation compare signature"
      ],
      "metadata": {
        "colab": {
          "base_uri": "https://localhost:8080/"
        },
        "id": "rEWBeWgQJ9w7",
        "outputId": "16c6e972-698a-4e36-c8b3-644b92f8798f"
      },
      "execution_count": 52,
      "outputs": [
        {
          "output_type": "stream",
          "name": "stderr",
          "text": [
            "WARNING:pdfminer.pdfpage:CropBox missing from /Page, defaulting to MediaBox\n",
            "WARNING:pdfminer.pdfpage:CropBox missing from /Page, defaulting to MediaBox\n"
          ]
        },
        {
          "output_type": "stream",
          "name": "stdout",
          "text": [
            "Signature found on the page.\n"
          ]
        }
      ]
    },
    {
      "cell_type": "code",
      "source": [],
      "metadata": {
        "id": "L_NORmoFKX-B"
      },
      "execution_count": null,
      "outputs": []
    }
  ]
}